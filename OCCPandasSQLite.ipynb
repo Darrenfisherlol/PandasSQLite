{
 "cells": [
  {
   "cell_type": "code",
   "execution_count": 11,
   "metadata": {
    "collapsed": true
   },
   "outputs": [
    {
     "data": {
      "text/plain": "'\\n- Clean a Df\\n- Create a SQLLite\\n- Create tables\\n- Raw / intake, Aggragated , Reporting\\n- Finish Reporting\\n'"
     },
     "execution_count": 11,
     "metadata": {},
     "output_type": "execute_result"
    }
   ],
   "source": [
    "\"\"\"\n",
    "- Clean a Df if need bc\n",
    "- Create a SQLLite\n",
    "- Create tables: Aggragated all, Comapny data facts, Company financials\n",
    "- Finish Reporting\n",
    "- clean if needed\n",
    "\"\"\""
   ]
  },
  {
   "cell_type": "code",
   "execution_count": 12,
   "outputs": [],
   "source": [
    "import pandas as pd\n",
    "import sqlite3 as sql3"
   ],
   "metadata": {
    "collapsed": false
   }
  },
  {
   "cell_type": "code",
   "execution_count": 13,
   "outputs": [
    {
     "data": {
      "text/plain": "  Symbol                 Name  Market_Cap  Beta  PE_Ratio   ROE   ROA  \\\n0    ABT  Abbott Laboratories       68.44  0.32      24.7  26.4  11.8   \n1    AGN       Allergan, Inc.        7.58  0.41      82.5  12.9   5.5   \n2    AHM         Amersham plc        6.30  0.46      20.7  14.9   7.8   \n3    AZN      AstraZeneca PLC       67.63  0.52      21.5  27.4  15.4   \n4    AVE              Aventis       47.16  0.32      20.1  21.8   7.5   \n\n   Asset_Turnover  Leverage  Rev_Growth  Net_Profit_Margin  \\\n0             0.7      0.42        7.54               16.1   \n1             0.9      0.60        9.16                5.5   \n2             0.9      0.27        7.05               11.2   \n3             0.9      0.00       15.00               18.0   \n4             0.6      0.34       26.81               12.9   \n\n  Median_Recommendation Location Exchange  \n0          Moderate Buy       US     NYSE  \n1          Moderate Buy   CANADA     NYSE  \n2            Strong Buy       UK     NYSE  \n3         Moderate Sell       UK     NYSE  \n4          Moderate Buy   FRANCE     NYSE  ",
      "text/html": "<div>\n<style scoped>\n    .dataframe tbody tr th:only-of-type {\n        vertical-align: middle;\n    }\n\n    .dataframe tbody tr th {\n        vertical-align: top;\n    }\n\n    .dataframe thead th {\n        text-align: right;\n    }\n</style>\n<table border=\"1\" class=\"dataframe\">\n  <thead>\n    <tr style=\"text-align: right;\">\n      <th></th>\n      <th>Symbol</th>\n      <th>Name</th>\n      <th>Market_Cap</th>\n      <th>Beta</th>\n      <th>PE_Ratio</th>\n      <th>ROE</th>\n      <th>ROA</th>\n      <th>Asset_Turnover</th>\n      <th>Leverage</th>\n      <th>Rev_Growth</th>\n      <th>Net_Profit_Margin</th>\n      <th>Median_Recommendation</th>\n      <th>Location</th>\n      <th>Exchange</th>\n    </tr>\n  </thead>\n  <tbody>\n    <tr>\n      <th>0</th>\n      <td>ABT</td>\n      <td>Abbott Laboratories</td>\n      <td>68.44</td>\n      <td>0.32</td>\n      <td>24.7</td>\n      <td>26.4</td>\n      <td>11.8</td>\n      <td>0.7</td>\n      <td>0.42</td>\n      <td>7.54</td>\n      <td>16.1</td>\n      <td>Moderate Buy</td>\n      <td>US</td>\n      <td>NYSE</td>\n    </tr>\n    <tr>\n      <th>1</th>\n      <td>AGN</td>\n      <td>Allergan, Inc.</td>\n      <td>7.58</td>\n      <td>0.41</td>\n      <td>82.5</td>\n      <td>12.9</td>\n      <td>5.5</td>\n      <td>0.9</td>\n      <td>0.60</td>\n      <td>9.16</td>\n      <td>5.5</td>\n      <td>Moderate Buy</td>\n      <td>CANADA</td>\n      <td>NYSE</td>\n    </tr>\n    <tr>\n      <th>2</th>\n      <td>AHM</td>\n      <td>Amersham plc</td>\n      <td>6.30</td>\n      <td>0.46</td>\n      <td>20.7</td>\n      <td>14.9</td>\n      <td>7.8</td>\n      <td>0.9</td>\n      <td>0.27</td>\n      <td>7.05</td>\n      <td>11.2</td>\n      <td>Strong Buy</td>\n      <td>UK</td>\n      <td>NYSE</td>\n    </tr>\n    <tr>\n      <th>3</th>\n      <td>AZN</td>\n      <td>AstraZeneca PLC</td>\n      <td>67.63</td>\n      <td>0.52</td>\n      <td>21.5</td>\n      <td>27.4</td>\n      <td>15.4</td>\n      <td>0.9</td>\n      <td>0.00</td>\n      <td>15.00</td>\n      <td>18.0</td>\n      <td>Moderate Sell</td>\n      <td>UK</td>\n      <td>NYSE</td>\n    </tr>\n    <tr>\n      <th>4</th>\n      <td>AVE</td>\n      <td>Aventis</td>\n      <td>47.16</td>\n      <td>0.32</td>\n      <td>20.1</td>\n      <td>21.8</td>\n      <td>7.5</td>\n      <td>0.6</td>\n      <td>0.34</td>\n      <td>26.81</td>\n      <td>12.9</td>\n      <td>Moderate Buy</td>\n      <td>FRANCE</td>\n      <td>NYSE</td>\n    </tr>\n  </tbody>\n</table>\n</div>"
     },
     "execution_count": 13,
     "metadata": {},
     "output_type": "execute_result"
    }
   ],
   "source": [
    "pharmaDf = pd.read_csv(\"Pharmaceuticals.csv\")\n",
    "\n",
    "pharmaDf.head(5)"
   ],
   "metadata": {
    "collapsed": false
   }
  },
  {
   "cell_type": "code",
   "execution_count": 14,
   "outputs": [
    {
     "data": {
      "text/plain": "<sqlite3.Cursor at 0x7fbea0c3c0a0>"
     },
     "execution_count": 14,
     "metadata": {},
     "output_type": "execute_result"
    }
   ],
   "source": [
    "# connect to DB\n",
    "connection = sql3.connect(\"my_database.db\")\n",
    "\n",
    "# Create a cursor\n",
    "c = connection.cursor()\n",
    "\n",
    "# Create a table\n",
    "c.execute('''CREATE TABLE IF NOT EXISTS pharma\n",
    "    (\n",
    "        Symbol TEXT,\n",
    "        Name TEXT,\n",
    "        MarketCap NUMBER,\n",
    "        Beta NUMBER,\n",
    "        PERation NUMBER,\n",
    "        ReturnOnInvestment NUMBER,\n",
    "        ReturnOnAsset NUMBER,\n",
    "        AssetTurnover NUMBER,\n",
    "        Leverage NUMBER,\n",
    "        RevenueGrowth NUMBER,\n",
    "        NetProfitMargin NUMBER,\n",
    "        Recommendation TEXT,\n",
    "        Location TEXT,\n",
    "        Exchange TEXT\n",
    ")''')\n"
   ],
   "metadata": {
    "collapsed": false
   }
  },
  {
   "cell_type": "code",
   "execution_count": 28,
   "outputs": [
    {
     "name": "stdout",
     "output_type": "stream",
     "text": [
      "('ABT', 'Abbott Laboratories', 68.44, 0.32, 24.7, 26.4, 11.8, 0.7, 0.42, 7.54, 16.1, 'Moderate Buy', 'US', 'NYSE')\n",
      "('AGN', 'Allergan, Inc.', 7.58, 0.41, 82.5, 12.9, 5.5, 0.9, 0.6, 9.16, 5.5, 'Moderate Buy', 'CANADA', 'NYSE')\n",
      "('AHM', 'Amersham plc', 6.3, 0.46, 20.7, 14.9, 7.8, 0.9, 0.27, 7.05, 11.2, 'Strong Buy', 'UK', 'NYSE')\n",
      "('AZN', 'AstraZeneca PLC', 67.63, 0.52, 21.5, 27.4, 15.4, 0.9, 0.0, 15.0, 18.0, 'Moderate Sell', 'UK', 'NYSE')\n",
      "('AVE', 'Aventis', 47.16, 0.32, 20.1, 21.8, 7.5, 0.6, 0.34, 26.81, 12.9, 'Moderate Buy', 'FRANCE', 'NYSE')\n",
      "('BAY', 'Bayer AG', 16.9, 1.11, 27.9, 3.9, 1.4, 0.6, 0.0, -3.17, 2.6, 'Hold', 'GERMANY', 'NYSE')\n",
      "('BMY', 'Bristol-Myers Squibb Company', 51.33, 0.5, 13.9, 34.8, 15.1, 0.9, 0.57, 2.7, 20.6, 'Moderate Sell', 'US', 'NYSE')\n",
      "('CHTT', 'Chattem, Inc', 0.41, 0.85, 26.0, 24.1, 4.3, 0.6, 3.51, 6.38, 7.5, 'Moderate Buy', 'US', 'NASDAQ')\n",
      "('ELN', 'Elan Corporation, plc', 0.78, 1.08, 3.6, 15.1, 5.1, 0.3, 1.07, 34.21, 13.3, 'Moderate Sell', 'IRELAND', 'NYSE')\n",
      "('LLY', 'Eli Lilly and Company', 73.84, 0.18, 27.9, 31.0, 13.5, 0.6, 0.53, 6.21, 23.4, 'Hold', 'US', 'NYSE')\n",
      "('GSK', 'GlaxoSmithKline plc', 122.11, 0.35, 18.0, 62.9, 20.3, 1.0, 0.34, 21.87, 21.1, 'Hold', 'UK', 'NYSE')\n",
      "('IVX', 'IVAX Corporation', 2.6, 0.65, 19.9, 21.4, 6.8, 0.6, 1.45, 13.99, 11.0, 'Hold', 'US', 'AMEX')\n",
      "('JNJ', 'Johnson & Johnson', 173.93, 0.46, 28.4, 28.6, 16.3, 0.9, 0.1, 9.37, 17.9, 'Moderate Buy', 'US', 'NYSE')\n",
      "('MRX', 'Medicis Pharmaceutical Corporation', 1.2, 0.75, 28.6, 11.2, 5.4, 0.3, 0.93, 30.37, 21.3, 'Moderate Buy', 'US', 'NYSE')\n",
      "('MRK', 'Merck & Co., Inc.', 132.56, 0.46, 18.9, 40.6, 15.0, 1.1, 0.28, 17.35, 14.1, 'Hold', 'US', 'NYSE')\n",
      "('NVS', 'Novartis AG', 96.65, 0.19, 21.6, 17.9, 11.2, 0.5, 0.06, -2.69, 22.4, 'Hold', 'SWITZERLAND', 'NYSE')\n",
      "('PFE', 'Pfizer Inc', 199.47, 0.65, 23.6, 45.6, 19.2, 0.8, 0.16, 25.54, 25.2, 'Moderate Buy', 'US', 'NYSE')\n",
      "('PHA', 'Pharmacia Corporation', 56.24, 0.4, 56.5, 13.5, 5.7, 0.6, 0.35, 15.0, 7.3, 'Hold', 'US', 'NYSE')\n",
      "('SGP', 'Schering-Plough Corporation', 34.1, 0.51, 18.9, 22.6, 13.3, 0.8, 0.0, 8.56, 17.6, 'Hold', 'US', 'NYSE')\n",
      "('WPI', 'Watson Pharmaceuticals, Inc.', 3.26, 0.24, 18.4, 10.2, 6.8, 0.5, 0.2, 29.18, 15.1, 'Moderate Sell', 'US', 'NYSE')\n",
      "('WYE', 'Wyeth', 48.19, 0.63, 13.1, 54.9, 13.4, 0.6, 1.12, 0.36, 25.5, 'Hold', 'US', 'NYSE')\n",
      "done\n"
     ]
    }
   ],
   "source": [
    "# Showcase empty DB\n",
    "\n",
    "c.execute('''SELECT * FROM pharma''')\n",
    "rows = c.fetchall()\n",
    "\n",
    "for row in rows:\n",
    "    print(row)\n",
    "\n",
    "print(\"done\")"
   ],
   "metadata": {
    "collapsed": false
   }
  },
  {
   "cell_type": "code",
   "execution_count": 26,
   "outputs": [
    {
     "name": "stdout",
     "output_type": "stream",
     "text": [
      "   Symbol                                Name  Market_Cap  Beta  PE_Ratio  \\\n",
      "0     ABT                 Abbott Laboratories       68.44  0.32      24.7   \n",
      "1     AGN                      Allergan, Inc.        7.58  0.41      82.5   \n",
      "2     AHM                        Amersham plc        6.30  0.46      20.7   \n",
      "3     AZN                     AstraZeneca PLC       67.63  0.52      21.5   \n",
      "4     AVE                             Aventis       47.16  0.32      20.1   \n",
      "5     BAY                            Bayer AG       16.90  1.11      27.9   \n",
      "6     BMY        Bristol-Myers Squibb Company       51.33  0.50      13.9   \n",
      "7    CHTT                        Chattem, Inc        0.41  0.85      26.0   \n",
      "8     ELN               Elan Corporation, plc        0.78  1.08       3.6   \n",
      "9     LLY               Eli Lilly and Company       73.84  0.18      27.9   \n",
      "10    GSK                 GlaxoSmithKline plc      122.11  0.35      18.0   \n",
      "11    IVX                    IVAX Corporation        2.60  0.65      19.9   \n",
      "12    JNJ                   Johnson & Johnson      173.93  0.46      28.4   \n",
      "13    MRX  Medicis Pharmaceutical Corporation        1.20  0.75      28.6   \n",
      "14    MRK                   Merck & Co., Inc.      132.56  0.46      18.9   \n",
      "15    NVS                         Novartis AG       96.65  0.19      21.6   \n",
      "16    PFE                          Pfizer Inc      199.47  0.65      23.6   \n",
      "17    PHA               Pharmacia Corporation       56.24  0.40      56.5   \n",
      "18    SGP         Schering-Plough Corporation       34.10  0.51      18.9   \n",
      "19    WPI        Watson Pharmaceuticals, Inc.        3.26  0.24      18.4   \n",
      "20    WYE                               Wyeth       48.19  0.63      13.1   \n",
      "\n",
      "     ROE   ROA  Asset_Turnover  Leverage  Rev_Growth  Net_Profit_Margin  \\\n",
      "0   26.4  11.8             0.7      0.42        7.54               16.1   \n",
      "1   12.9   5.5             0.9      0.60        9.16                5.5   \n",
      "2   14.9   7.8             0.9      0.27        7.05               11.2   \n",
      "3   27.4  15.4             0.9      0.00       15.00               18.0   \n",
      "4   21.8   7.5             0.6      0.34       26.81               12.9   \n",
      "5    3.9   1.4             0.6      0.00       -3.17                2.6   \n",
      "6   34.8  15.1             0.9      0.57        2.70               20.6   \n",
      "7   24.1   4.3             0.6      3.51        6.38                7.5   \n",
      "8   15.1   5.1             0.3      1.07       34.21               13.3   \n",
      "9   31.0  13.5             0.6      0.53        6.21               23.4   \n",
      "10  62.9  20.3             1.0      0.34       21.87               21.1   \n",
      "11  21.4   6.8             0.6      1.45       13.99               11.0   \n",
      "12  28.6  16.3             0.9      0.10        9.37               17.9   \n",
      "13  11.2   5.4             0.3      0.93       30.37               21.3   \n",
      "14  40.6  15.0             1.1      0.28       17.35               14.1   \n",
      "15  17.9  11.2             0.5      0.06       -2.69               22.4   \n",
      "16  45.6  19.2             0.8      0.16       25.54               25.2   \n",
      "17  13.5   5.7             0.6      0.35       15.00                7.3   \n",
      "18  22.6  13.3             0.8      0.00        8.56               17.6   \n",
      "19  10.2   6.8             0.5      0.20       29.18               15.1   \n",
      "20  54.9  13.4             0.6      1.12        0.36               25.5   \n",
      "\n",
      "   Median_Recommendation     Location Exchange  \n",
      "0           Moderate Buy           US     NYSE  \n",
      "1           Moderate Buy       CANADA     NYSE  \n",
      "2             Strong Buy           UK     NYSE  \n",
      "3          Moderate Sell           UK     NYSE  \n",
      "4           Moderate Buy       FRANCE     NYSE  \n",
      "5                   Hold      GERMANY     NYSE  \n",
      "6          Moderate Sell           US     NYSE  \n",
      "7           Moderate Buy           US   NASDAQ  \n",
      "8          Moderate Sell      IRELAND     NYSE  \n",
      "9                   Hold           US     NYSE  \n",
      "10                  Hold           UK     NYSE  \n",
      "11                  Hold           US     AMEX  \n",
      "12          Moderate Buy           US     NYSE  \n",
      "13          Moderate Buy           US     NYSE  \n",
      "14                  Hold           US     NYSE  \n",
      "15                  Hold  SWITZERLAND     NYSE  \n",
      "16          Moderate Buy           US     NYSE  \n",
      "17                  Hold           US     NYSE  \n",
      "18                  Hold           US     NYSE  \n",
      "19         Moderate Sell           US     NYSE  \n",
      "20                  Hold           US     NYSE  \n"
     ]
    }
   ],
   "source": [
    "'''\n",
    "# Turn df into sql\n",
    "\n",
    "if_exists{‘fail’, ‘replace’, ‘append’}, default ‘fail’\n",
    "How to behave if the table already exists.\n",
    "fail: Raise a ValueError.\n",
    "replace: Drop the table before inserting new values.\n",
    "append: Insert new values to the existing table.\n",
    "\n",
    "Index:\n",
    "Write DataFrame index as a column. Uses index_label as the column name in the table.\n",
    "\n",
    "# df to sql using ( db , imported connection sql, if exists ~ do something, index\n",
    "'''\n",
    "pharmaDf.to_sql('pharma', connection, if_exists='replace', index = False)\n",
    "\n",
    "print(pharmaDf)"
   ],
   "metadata": {
    "collapsed": false
   }
  },
  {
   "cell_type": "code",
   "execution_count": 31,
   "outputs": [
    {
     "name": "stdout",
     "output_type": "stream",
     "text": [
      "('ABT', 'Abbott Laboratories', 68.44, 0.32, 24.7, 26.4, 11.8, 0.7, 0.42, 7.54, 16.1, 'Moderate Buy', 'US', 'NYSE')\n",
      "('AGN', 'Allergan, Inc.', 7.58, 0.41, 82.5, 12.9, 5.5, 0.9, 0.6, 9.16, 5.5, 'Moderate Buy', 'CANADA', 'NYSE')\n",
      "('AHM', 'Amersham plc', 6.3, 0.46, 20.7, 14.9, 7.8, 0.9, 0.27, 7.05, 11.2, 'Strong Buy', 'UK', 'NYSE')\n",
      "('AZN', 'AstraZeneca PLC', 67.63, 0.52, 21.5, 27.4, 15.4, 0.9, 0.0, 15.0, 18.0, 'Moderate Sell', 'UK', 'NYSE')\n",
      "('AVE', 'Aventis', 47.16, 0.32, 20.1, 21.8, 7.5, 0.6, 0.34, 26.81, 12.9, 'Moderate Buy', 'FRANCE', 'NYSE')\n",
      "('BAY', 'Bayer AG', 16.9, 1.11, 27.9, 3.9, 1.4, 0.6, 0.0, -3.17, 2.6, 'Hold', 'GERMANY', 'NYSE')\n",
      "('BMY', 'Bristol-Myers Squibb Company', 51.33, 0.5, 13.9, 34.8, 15.1, 0.9, 0.57, 2.7, 20.6, 'Moderate Sell', 'US', 'NYSE')\n",
      "('CHTT', 'Chattem, Inc', 0.41, 0.85, 26.0, 24.1, 4.3, 0.6, 3.51, 6.38, 7.5, 'Moderate Buy', 'US', 'NASDAQ')\n",
      "('ELN', 'Elan Corporation, plc', 0.78, 1.08, 3.6, 15.1, 5.1, 0.3, 1.07, 34.21, 13.3, 'Moderate Sell', 'IRELAND', 'NYSE')\n",
      "('LLY', 'Eli Lilly and Company', 73.84, 0.18, 27.9, 31.0, 13.5, 0.6, 0.53, 6.21, 23.4, 'Hold', 'US', 'NYSE')\n",
      "('GSK', 'GlaxoSmithKline plc', 122.11, 0.35, 18.0, 62.9, 20.3, 1.0, 0.34, 21.87, 21.1, 'Hold', 'UK', 'NYSE')\n",
      "('IVX', 'IVAX Corporation', 2.6, 0.65, 19.9, 21.4, 6.8, 0.6, 1.45, 13.99, 11.0, 'Hold', 'US', 'AMEX')\n",
      "('JNJ', 'Johnson & Johnson', 173.93, 0.46, 28.4, 28.6, 16.3, 0.9, 0.1, 9.37, 17.9, 'Moderate Buy', 'US', 'NYSE')\n",
      "('MRX', 'Medicis Pharmaceutical Corporation', 1.2, 0.75, 28.6, 11.2, 5.4, 0.3, 0.93, 30.37, 21.3, 'Moderate Buy', 'US', 'NYSE')\n",
      "('MRK', 'Merck & Co., Inc.', 132.56, 0.46, 18.9, 40.6, 15.0, 1.1, 0.28, 17.35, 14.1, 'Hold', 'US', 'NYSE')\n",
      "('NVS', 'Novartis AG', 96.65, 0.19, 21.6, 17.9, 11.2, 0.5, 0.06, -2.69, 22.4, 'Hold', 'SWITZERLAND', 'NYSE')\n",
      "('PFE', 'Pfizer Inc', 199.47, 0.65, 23.6, 45.6, 19.2, 0.8, 0.16, 25.54, 25.2, 'Moderate Buy', 'US', 'NYSE')\n",
      "('PHA', 'Pharmacia Corporation', 56.24, 0.4, 56.5, 13.5, 5.7, 0.6, 0.35, 15.0, 7.3, 'Hold', 'US', 'NYSE')\n",
      "('SGP', 'Schering-Plough Corporation', 34.1, 0.51, 18.9, 22.6, 13.3, 0.8, 0.0, 8.56, 17.6, 'Hold', 'US', 'NYSE')\n",
      "('WPI', 'Watson Pharmaceuticals, Inc.', 3.26, 0.24, 18.4, 10.2, 6.8, 0.5, 0.2, 29.18, 15.1, 'Moderate Sell', 'US', 'NYSE')\n",
      "('WYE', 'Wyeth', 48.19, 0.63, 13.1, 54.9, 13.4, 0.6, 1.12, 0.36, 25.5, 'Hold', 'US', 'NYSE')\n"
     ]
    }
   ],
   "source": [
    "# Query data\n",
    "\n",
    "c.execute('''\n",
    "SELECT * FROM pharma\n",
    "          ''')\n",
    "\n",
    "for row in c.fetchall():\n",
    "    print (row)"
   ],
   "metadata": {
    "collapsed": false
   }
  },
  {
   "cell_type": "code",
   "execution_count": 41,
   "outputs": [
    {
     "name": "stdout",
     "output_type": "stream",
     "text": [
      "done finance\n",
      "done comapny\n"
     ]
    }
   ],
   "source": [
    "# Create new db\n",
    "# only take text\n",
    "# only numerical data\n",
    "\n",
    "c.execute('''CREATE TABLE IF NOT EXISTS company\n",
    "    (\n",
    "        Symbol TEXT,\n",
    "        Name TEXT,\n",
    "        Location TEXT,\n",
    "        Exchange TEXT\n",
    ")''')\n",
    "\n",
    "c.execute('''CREATE TABLE IF NOT EXISTS finance\n",
    "    (\n",
    "        Symbol TEXT,\n",
    "        MarketCap NUMBER,\n",
    "        Beta NUMBER,\n",
    "        PERation NUMBER,\n",
    "        ReturnOnInvestment NUMBER,\n",
    "        ReturnOnAsset NUMBER,\n",
    "        AssetTurnover NUMBER,\n",
    "        Leverage NUMBER,\n",
    "        RevenueGrowth NUMBER,\n",
    "        NetProfitMargin NUMBER,\n",
    "        Recommendation TEXT\n",
    ")''')\n",
    "\n",
    "c.execute(\"\"\"\n",
    "    SELECT * FROM finance\n",
    "\"\"\")\n",
    "\n",
    "for row in c.fetchall():\n",
    "    print (row)\n",
    "\n",
    "print(\"done finance\")\n",
    "\n",
    "c.execute(\"\"\"\n",
    "    SELECT * FROM company\n",
    "\"\"\")\n",
    "\n",
    "\n",
    "for row in c.fetchall():\n",
    "    print (row)\n",
    "\n",
    "print(\"done comapny\")"
   ],
   "metadata": {
    "collapsed": false
   }
  },
  {
   "cell_type": "code",
   "execution_count": 42,
   "outputs": [
    {
     "data": {
      "text/plain": "Index(['Symbol', 'Name', 'Market_Cap', 'Beta', 'PE_Ratio', 'ROE', 'ROA',\n       'Asset_Turnover', 'Leverage', 'Rev_Growth', 'Net_Profit_Margin',\n       'Median_Recommendation', 'Location', 'Exchange'],\n      dtype='object')"
     },
     "execution_count": 42,
     "metadata": {},
     "output_type": "execute_result"
    }
   ],
   "source": [
    "pharmaDf.columns"
   ],
   "metadata": {
    "collapsed": false
   }
  },
  {
   "cell_type": "code",
   "execution_count": 61,
   "outputs": [
    {
     "name": "stdout",
     "output_type": "stream",
     "text": [
      "('ABT', 'Abbott Laboratories', 'US', 'NYSE')\n",
      "('AGN', 'Allergan, Inc.', 'CANADA', 'NYSE')\n",
      "('AHM', 'Amersham plc', 'UK', 'NYSE')\n",
      "('AZN', 'AstraZeneca PLC', 'UK', 'NYSE')\n",
      "('AVE', 'Aventis', 'FRANCE', 'NYSE')\n",
      "('BAY', 'Bayer AG', 'GERMANY', 'NYSE')\n",
      "('BMY', 'Bristol-Myers Squibb Company', 'US', 'NYSE')\n",
      "('CHTT', 'Chattem, Inc', 'US', 'NASDAQ')\n",
      "('ELN', 'Elan Corporation, plc', 'IRELAND', 'NYSE')\n",
      "('LLY', 'Eli Lilly and Company', 'US', 'NYSE')\n",
      "('GSK', 'GlaxoSmithKline plc', 'UK', 'NYSE')\n",
      "('IVX', 'IVAX Corporation', 'US', 'AMEX')\n",
      "('JNJ', 'Johnson & Johnson', 'US', 'NYSE')\n",
      "('MRX', 'Medicis Pharmaceutical Corporation', 'US', 'NYSE')\n",
      "('MRK', 'Merck & Co., Inc.', 'US', 'NYSE')\n",
      "('NVS', 'Novartis AG', 'SWITZERLAND', 'NYSE')\n",
      "('PFE', 'Pfizer Inc', 'US', 'NYSE')\n",
      "('PHA', 'Pharmacia Corporation', 'US', 'NYSE')\n",
      "('SGP', 'Schering-Plough Corporation', 'US', 'NYSE')\n",
      "('WPI', 'Watson Pharmaceuticals, Inc.', 'US', 'NYSE')\n",
      "('WYE', 'Wyeth', 'US', 'NYSE')\n",
      "done company\n"
     ]
    }
   ],
   "source": [
    "# Create 2 different data & merge into DB company & finance\n",
    "\n",
    "c.execute(\"\"\"\n",
    "INSERT INTO company (Symbol,\n",
    "    Name,\n",
    "    Location,\n",
    "    Exchange)\n",
    "SELECT\n",
    "    Symbol,\n",
    "    Name,\n",
    "    Location,\n",
    "    Exchange\n",
    "FROM\n",
    "    pharma\n",
    "\"\"\")\n",
    "\n",
    "c.execute(\"\"\"\n",
    "    SELECT * FROM company\n",
    "\"\"\")\n",
    "\n",
    "for row in c.fetchall():\n",
    "    print (row)\n",
    "\n",
    "print(\"done company\")\n"
   ],
   "metadata": {
    "collapsed": false
   }
  },
  {
   "cell_type": "code",
   "execution_count": 52,
   "outputs": [
    {
     "name": "stdout",
     "output_type": "stream",
     "text": [
      "('ABT', 68.44, 0.32, 24.7, 26.4, 11.8, 0.7, 0.42, 7.54, 16.1, 'Moderate Buy')\n",
      "('AGN', 7.58, 0.41, 82.5, 12.9, 5.5, 0.9, 0.6, 9.16, 5.5, 'Moderate Buy')\n",
      "('AHM', 6.3, 0.46, 20.7, 14.9, 7.8, 0.9, 0.27, 7.05, 11.2, 'Strong Buy')\n",
      "('AZN', 67.63, 0.52, 21.5, 27.4, 15.4, 0.9, 0, 15, 18, 'Moderate Sell')\n",
      "('AVE', 47.16, 0.32, 20.1, 21.8, 7.5, 0.6, 0.34, 26.81, 12.9, 'Moderate Buy')\n",
      "('BAY', 16.9, 1.11, 27.9, 3.9, 1.4, 0.6, 0, -3.17, 2.6, 'Hold')\n",
      "('BMY', 51.33, 0.5, 13.9, 34.8, 15.1, 0.9, 0.57, 2.7, 20.6, 'Moderate Sell')\n",
      "('CHTT', 0.41, 0.85, 26, 24.1, 4.3, 0.6, 3.51, 6.38, 7.5, 'Moderate Buy')\n",
      "('ELN', 0.78, 1.08, 3.6, 15.1, 5.1, 0.3, 1.07, 34.21, 13.3, 'Moderate Sell')\n",
      "('LLY', 73.84, 0.18, 27.9, 31, 13.5, 0.6, 0.53, 6.21, 23.4, 'Hold')\n",
      "('GSK', 122.11, 0.35, 18, 62.9, 20.3, 1, 0.34, 21.87, 21.1, 'Hold')\n",
      "('IVX', 2.6, 0.65, 19.9, 21.4, 6.8, 0.6, 1.45, 13.99, 11, 'Hold')\n",
      "('JNJ', 173.93, 0.46, 28.4, 28.6, 16.3, 0.9, 0.1, 9.37, 17.9, 'Moderate Buy')\n",
      "('MRX', 1.2, 0.75, 28.6, 11.2, 5.4, 0.3, 0.93, 30.37, 21.3, 'Moderate Buy')\n",
      "('MRK', 132.56, 0.46, 18.9, 40.6, 15, 1.1, 0.28, 17.35, 14.1, 'Hold')\n",
      "('NVS', 96.65, 0.19, 21.6, 17.9, 11.2, 0.5, 0.06, -2.69, 22.4, 'Hold')\n",
      "('PFE', 199.47, 0.65, 23.6, 45.6, 19.2, 0.8, 0.16, 25.54, 25.2, 'Moderate Buy')\n",
      "('PHA', 56.24, 0.4, 56.5, 13.5, 5.7, 0.6, 0.35, 15, 7.3, 'Hold')\n",
      "('SGP', 34.1, 0.51, 18.9, 22.6, 13.3, 0.8, 0, 8.56, 17.6, 'Hold')\n",
      "('WPI', 3.26, 0.24, 18.4, 10.2, 6.8, 0.5, 0.2, 29.18, 15.1, 'Moderate Sell')\n",
      "('WYE', 48.19, 0.63, 13.1, 54.9, 13.4, 0.6, 1.12, 0.36, 25.5, 'Hold')\n",
      "done finance\n"
     ]
    }
   ],
   "source": [
    "# Create 2 different data & merge into DB company & finance\n",
    "\n",
    "c.execute(\"\"\"\n",
    "INSERT INTO finance (\n",
    "    Symbol,\n",
    "    MarketCap,\n",
    "    Beta,\n",
    "    PERation,\n",
    "    ReturnOnInvestment,\n",
    "    ReturnOnAsset,\n",
    "    AssetTurnover,\n",
    "    Leverage,\n",
    "    RevenueGrowth,\n",
    "    NetProfitMargin,\n",
    "    Recommendation\n",
    "    )\n",
    "SELECT\n",
    "    Symbol,\n",
    "    Market_Cap,\n",
    "    Beta,\n",
    "    PE_Ratio,\n",
    "    ROE,\n",
    "    ROA,\n",
    "    Asset_Turnover,\n",
    "    Leverage,\n",
    "    Rev_Growth,\n",
    "    Net_Profit_Margin,\n",
    "    Median_Recommendation\n",
    "FROM\n",
    "    pharma\n",
    "\"\"\")\n",
    "\n",
    "c.execute(\"\"\"\n",
    "    SELECT * FROM finance\n",
    "\"\"\")\n",
    "\n",
    "for row in c.fetchall():\n",
    "    print (row)\n",
    "\n",
    "print(\"done finance\")"
   ],
   "metadata": {
    "collapsed": false
   }
  },
  {
   "cell_type": "code",
   "execution_count": 62,
   "outputs": [
    {
     "name": "stdout",
     "output_type": "stream",
     "text": [
      "('ABT', 'Abbott Laboratories', 68.44, 0.32, 24.7, 26.4, 11.8, 0.7, 0.42, 7.54, 16.1, 'Moderate Buy', 'US', 'NYSE')\n",
      "('AGN', 'Allergan, Inc.', 7.58, 0.41, 82.5, 12.9, 5.5, 0.9, 0.6, 9.16, 5.5, 'Moderate Buy', 'CANADA', 'NYSE')\n",
      "('AHM', 'Amersham plc', 6.3, 0.46, 20.7, 14.9, 7.8, 0.9, 0.27, 7.05, 11.2, 'Strong Buy', 'UK', 'NYSE')\n",
      "('AZN', 'AstraZeneca PLC', 67.63, 0.52, 21.5, 27.4, 15.4, 0.9, 0.0, 15.0, 18.0, 'Moderate Sell', 'UK', 'NYSE')\n",
      "('AVE', 'Aventis', 47.16, 0.32, 20.1, 21.8, 7.5, 0.6, 0.34, 26.81, 12.9, 'Moderate Buy', 'FRANCE', 'NYSE')\n",
      "('BAY', 'Bayer AG', 16.9, 1.11, 27.9, 3.9, 1.4, 0.6, 0.0, -3.17, 2.6, 'Hold', 'GERMANY', 'NYSE')\n",
      "('BMY', 'Bristol-Myers Squibb Company', 51.33, 0.5, 13.9, 34.8, 15.1, 0.9, 0.57, 2.7, 20.6, 'Moderate Sell', 'US', 'NYSE')\n",
      "('CHTT', 'Chattem, Inc', 0.41, 0.85, 26.0, 24.1, 4.3, 0.6, 3.51, 6.38, 7.5, 'Moderate Buy', 'US', 'NASDAQ')\n",
      "('ELN', 'Elan Corporation, plc', 0.78, 1.08, 3.6, 15.1, 5.1, 0.3, 1.07, 34.21, 13.3, 'Moderate Sell', 'IRELAND', 'NYSE')\n",
      "('LLY', 'Eli Lilly and Company', 73.84, 0.18, 27.9, 31.0, 13.5, 0.6, 0.53, 6.21, 23.4, 'Hold', 'US', 'NYSE')\n",
      "('GSK', 'GlaxoSmithKline plc', 122.11, 0.35, 18.0, 62.9, 20.3, 1.0, 0.34, 21.87, 21.1, 'Hold', 'UK', 'NYSE')\n",
      "('IVX', 'IVAX Corporation', 2.6, 0.65, 19.9, 21.4, 6.8, 0.6, 1.45, 13.99, 11.0, 'Hold', 'US', 'AMEX')\n",
      "('JNJ', 'Johnson & Johnson', 173.93, 0.46, 28.4, 28.6, 16.3, 0.9, 0.1, 9.37, 17.9, 'Moderate Buy', 'US', 'NYSE')\n",
      "('MRX', 'Medicis Pharmaceutical Corporation', 1.2, 0.75, 28.6, 11.2, 5.4, 0.3, 0.93, 30.37, 21.3, 'Moderate Buy', 'US', 'NYSE')\n",
      "('MRK', 'Merck & Co., Inc.', 132.56, 0.46, 18.9, 40.6, 15.0, 1.1, 0.28, 17.35, 14.1, 'Hold', 'US', 'NYSE')\n",
      "('NVS', 'Novartis AG', 96.65, 0.19, 21.6, 17.9, 11.2, 0.5, 0.06, -2.69, 22.4, 'Hold', 'SWITZERLAND', 'NYSE')\n",
      "('PFE', 'Pfizer Inc', 199.47, 0.65, 23.6, 45.6, 19.2, 0.8, 0.16, 25.54, 25.2, 'Moderate Buy', 'US', 'NYSE')\n",
      "('PHA', 'Pharmacia Corporation', 56.24, 0.4, 56.5, 13.5, 5.7, 0.6, 0.35, 15.0, 7.3, 'Hold', 'US', 'NYSE')\n",
      "('SGP', 'Schering-Plough Corporation', 34.1, 0.51, 18.9, 22.6, 13.3, 0.8, 0.0, 8.56, 17.6, 'Hold', 'US', 'NYSE')\n",
      "('WPI', 'Watson Pharmaceuticals, Inc.', 3.26, 0.24, 18.4, 10.2, 6.8, 0.5, 0.2, 29.18, 15.1, 'Moderate Sell', 'US', 'NYSE')\n",
      "('WYE', 'Wyeth', 48.19, 0.63, 13.1, 54.9, 13.4, 0.6, 1.12, 0.36, 25.5, 'Hold', 'US', 'NYSE')\n"
     ]
    }
   ],
   "source": [
    "# Print all pharma\n",
    "c.execute(\"\"\"\n",
    "    SELECT * FROM pharma\n",
    "\"\"\")\n",
    "\n",
    "for row in c.fetchall():\n",
    "    print (row)\n"
   ],
   "metadata": {
    "collapsed": false
   }
  },
  {
   "cell_type": "code",
   "execution_count": 63,
   "outputs": [
    {
     "name": "stdout",
     "output_type": "stream",
     "text": [
      "('ABT', 'Abbott Laboratories', 'US', 'NYSE')\n",
      "('AGN', 'Allergan, Inc.', 'CANADA', 'NYSE')\n",
      "('AHM', 'Amersham plc', 'UK', 'NYSE')\n",
      "('AZN', 'AstraZeneca PLC', 'UK', 'NYSE')\n",
      "('AVE', 'Aventis', 'FRANCE', 'NYSE')\n",
      "('BAY', 'Bayer AG', 'GERMANY', 'NYSE')\n",
      "('BMY', 'Bristol-Myers Squibb Company', 'US', 'NYSE')\n",
      "('CHTT', 'Chattem, Inc', 'US', 'NASDAQ')\n",
      "('ELN', 'Elan Corporation, plc', 'IRELAND', 'NYSE')\n",
      "('LLY', 'Eli Lilly and Company', 'US', 'NYSE')\n",
      "('GSK', 'GlaxoSmithKline plc', 'UK', 'NYSE')\n",
      "('IVX', 'IVAX Corporation', 'US', 'AMEX')\n",
      "('JNJ', 'Johnson & Johnson', 'US', 'NYSE')\n",
      "('MRX', 'Medicis Pharmaceutical Corporation', 'US', 'NYSE')\n",
      "('MRK', 'Merck & Co., Inc.', 'US', 'NYSE')\n",
      "('NVS', 'Novartis AG', 'SWITZERLAND', 'NYSE')\n",
      "('PFE', 'Pfizer Inc', 'US', 'NYSE')\n",
      "('PHA', 'Pharmacia Corporation', 'US', 'NYSE')\n",
      "('SGP', 'Schering-Plough Corporation', 'US', 'NYSE')\n",
      "('WPI', 'Watson Pharmaceuticals, Inc.', 'US', 'NYSE')\n",
      "('WYE', 'Wyeth', 'US', 'NYSE')\n"
     ]
    }
   ],
   "source": [
    "# print all company data\n",
    "c.execute(\"\"\"\n",
    "    SELECT * FROM company\n",
    "\"\"\")\n",
    "\n",
    "for row in c.fetchall():\n",
    "    print (row)\n"
   ],
   "metadata": {
    "collapsed": false
   }
  },
  {
   "cell_type": "code",
   "execution_count": 64,
   "outputs": [
    {
     "name": "stdout",
     "output_type": "stream",
     "text": [
      "('ABT', 68.44, 0.32, 24.7, 26.4, 11.8, 0.7, 0.42, 7.54, 16.1, 'Moderate Buy')\n",
      "('AGN', 7.58, 0.41, 82.5, 12.9, 5.5, 0.9, 0.6, 9.16, 5.5, 'Moderate Buy')\n",
      "('AHM', 6.3, 0.46, 20.7, 14.9, 7.8, 0.9, 0.27, 7.05, 11.2, 'Strong Buy')\n",
      "('AZN', 67.63, 0.52, 21.5, 27.4, 15.4, 0.9, 0, 15, 18, 'Moderate Sell')\n",
      "('AVE', 47.16, 0.32, 20.1, 21.8, 7.5, 0.6, 0.34, 26.81, 12.9, 'Moderate Buy')\n",
      "('BAY', 16.9, 1.11, 27.9, 3.9, 1.4, 0.6, 0, -3.17, 2.6, 'Hold')\n",
      "('BMY', 51.33, 0.5, 13.9, 34.8, 15.1, 0.9, 0.57, 2.7, 20.6, 'Moderate Sell')\n",
      "('CHTT', 0.41, 0.85, 26, 24.1, 4.3, 0.6, 3.51, 6.38, 7.5, 'Moderate Buy')\n",
      "('ELN', 0.78, 1.08, 3.6, 15.1, 5.1, 0.3, 1.07, 34.21, 13.3, 'Moderate Sell')\n",
      "('LLY', 73.84, 0.18, 27.9, 31, 13.5, 0.6, 0.53, 6.21, 23.4, 'Hold')\n",
      "('GSK', 122.11, 0.35, 18, 62.9, 20.3, 1, 0.34, 21.87, 21.1, 'Hold')\n",
      "('IVX', 2.6, 0.65, 19.9, 21.4, 6.8, 0.6, 1.45, 13.99, 11, 'Hold')\n",
      "('JNJ', 173.93, 0.46, 28.4, 28.6, 16.3, 0.9, 0.1, 9.37, 17.9, 'Moderate Buy')\n",
      "('MRX', 1.2, 0.75, 28.6, 11.2, 5.4, 0.3, 0.93, 30.37, 21.3, 'Moderate Buy')\n",
      "('MRK', 132.56, 0.46, 18.9, 40.6, 15, 1.1, 0.28, 17.35, 14.1, 'Hold')\n",
      "('NVS', 96.65, 0.19, 21.6, 17.9, 11.2, 0.5, 0.06, -2.69, 22.4, 'Hold')\n",
      "('PFE', 199.47, 0.65, 23.6, 45.6, 19.2, 0.8, 0.16, 25.54, 25.2, 'Moderate Buy')\n",
      "('PHA', 56.24, 0.4, 56.5, 13.5, 5.7, 0.6, 0.35, 15, 7.3, 'Hold')\n",
      "('SGP', 34.1, 0.51, 18.9, 22.6, 13.3, 0.8, 0, 8.56, 17.6, 'Hold')\n",
      "('WPI', 3.26, 0.24, 18.4, 10.2, 6.8, 0.5, 0.2, 29.18, 15.1, 'Moderate Sell')\n",
      "('WYE', 48.19, 0.63, 13.1, 54.9, 13.4, 0.6, 1.12, 0.36, 25.5, 'Hold')\n"
     ]
    }
   ],
   "source": [
    "# print all finance data\n",
    "c.execute(\"\"\"\n",
    "    SELECT * FROM finance\n",
    "\"\"\")\n",
    "\n",
    "for row in c.fetchall():\n",
    "    print (row)\n"
   ],
   "metadata": {
    "collapsed": false
   }
  },
  {
   "cell_type": "code",
   "execution_count": 60,
   "outputs": [],
   "source": [],
   "metadata": {
    "collapsed": false
   }
  },
  {
   "cell_type": "code",
   "execution_count": 59,
   "outputs": [
    {
     "name": "stdout",
     "output_type": "stream",
     "text": [
      "done\n"
     ]
    }
   ],
   "source": [
    "# Remove duplicated values\n",
    "# c.execute(\"\"\"\n",
    "# DELETE FROM company\n",
    "# WHERE EXISTS (\n",
    "#   SELECT 1 FROM company p2\n",
    "#   WHERE Symbol = p2.Symbol\n",
    "#   AND Name = p2.Name\n",
    "# )\n",
    "# \"\"\")\n",
    "\n",
    "c.execute(\"\"\"\n",
    "SELECT *\n",
    "FROM\n",
    "    company\n",
    "\"\"\")\n",
    "\n",
    "for x in c.fetchall():\n",
    "    print(x)\n",
    "\n",
    "print(\"done\")"
   ],
   "metadata": {
    "collapsed": false
   }
  },
  {
   "cell_type": "code",
   "execution_count": null,
   "outputs": [],
   "source": [],
   "metadata": {
    "collapsed": false
   }
  },
  {
   "cell_type": "code",
   "execution_count": null,
   "outputs": [],
   "source": [],
   "metadata": {
    "collapsed": false
   }
  },
  {
   "cell_type": "code",
   "execution_count": 65,
   "outputs": [],
   "source": [
    "# Close and commit to table\n",
    "connection.commit()\n",
    "connection.close()"
   ],
   "metadata": {
    "collapsed": false
   }
  },
  {
   "cell_type": "code",
   "execution_count": 66,
   "outputs": [
    {
     "name": "stdout",
     "output_type": "stream",
     "text": [
      "Done!\n"
     ]
    }
   ],
   "source": [
    "print(\"Done!\")"
   ],
   "metadata": {
    "collapsed": false
   }
  },
  {
   "cell_type": "code",
   "execution_count": null,
   "outputs": [],
   "source": [],
   "metadata": {
    "collapsed": false
   }
  }
 ],
 "metadata": {
  "kernelspec": {
   "display_name": "Python 3",
   "language": "python",
   "name": "python3"
  },
  "language_info": {
   "codemirror_mode": {
    "name": "ipython",
    "version": 2
   },
   "file_extension": ".py",
   "mimetype": "text/x-python",
   "name": "python",
   "nbconvert_exporter": "python",
   "pygments_lexer": "ipython2",
   "version": "2.7.6"
  }
 },
 "nbformat": 4,
 "nbformat_minor": 0
}
